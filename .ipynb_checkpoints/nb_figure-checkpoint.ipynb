{
 "cells": [
  {
   "cell_type": "markdown",
   "metadata": {},
   "source": [
    "# Animated pyplot figure for jupyter notebooks"
   ]
  },
  {
   "cell_type": "code",
   "execution_count": 1,
   "metadata": {},
   "outputs": [],
   "source": [
    "import writefile_run"
   ]
  },
  {
   "cell_type": "code",
   "execution_count": 2,
   "metadata": {},
   "outputs": [],
   "source": [
    "%%writefile_run nb_figure.py\n",
    "\n",
    "\"\"\"Module which extends matplotlib figures to notebooks. \n",
    "Figures are displayed as loaded images using IPython display.\"\"\"\n",
    "\n",
    "import matplotlib.pyplot as plt\n",
    "from IPython.display import *\n",
    "import numpy as np"
   ]
  },
  {
   "cell_type": "code",
   "execution_count": 3,
   "metadata": {},
   "outputs": [],
   "source": [
    "%%writefile_run nb_figure.py -a\n",
    "\n",
    "\n",
    "class NBFigure():\n",
    "    \"\"\"An extension of matplotlib figure to work with jupyter notebook's display module.\n",
    "    Works by storing the figure as an image on disk and loading it to display on updating.\n",
    "    \"\"\"\n",
    "    def __init__(self,image_path,nrows=1,ncols=1,**subplot_kwargs):\n",
    "        \"\"\"\n",
    "        image_path: the filename of the stored figure image\n",
    "        \n",
    "        Rest of the arguments are indentical to subplots' arguments\n",
    "        \"\"\"\n",
    "        \n",
    "        self.nrows=nrows\n",
    "        self.ncols=ncols\n",
    "        self.fig, self.axes = plt.subplots(nrows,ncols,**subplot_kwargs)\n",
    "        \n",
    "        self.axes=self.axes.reshape(nrows,ncols)\n",
    "        plt.close(self.fig)\n",
    "        \n",
    "        self.image_path = image_path\n",
    "        self.fig.savefig(image_path, bbox_inches='tight')\n",
    "        self.disp = None\n",
    "        \n",
    "        self.xlims = [[(None,None) for j in range(ncols)] for i in range(nrows)]\n",
    "        self.ylims = [[(None,None) for j in range(ncols)] for i in range(nrows)]\n",
    "        \n",
    "    def update_lims(self):\n",
    "        \"\"\"\n",
    "        Updates xlims\n",
    "        \"\"\"\n",
    "        for i in range(self.nrows):\n",
    "            for j in range(self.ncols):\n",
    "                ax = self.axes[i][j]\n",
    "                ax.relim()\n",
    "                ax.autoscale()\n",
    "                ax.set_xlim(self.xlims[i][j])\n",
    "                ax.set_ylim(self.ylims[i][j])\n",
    "                \n",
    "    def set_xlim(self,xlim,row=0,col=0):\n",
    "        self.xlims[row][col]=xlim\n",
    "\n",
    "    def set_ylim(self,ylim,row=0,col=0):\n",
    "        self.ylims[row][col]=ylim\n",
    "        \n",
    "    def display(self):\n",
    "        \"\"\"Create a new display of the figure\"\"\"\n",
    "        self.disp = display(Image(self.image_path),display_id=str(id(self)))\n",
    "    \n",
    "    def update(self):\n",
    "        \"\"\"Update the lims and update all display instances\"\"\"\n",
    "        self.update_lims()\n",
    "        self.fig.savefig(self.image_path, bbox_inches='tight')\n",
    "        self.disp.update(Image(self.image_path))\n",
    "        \n",
    "    def plotLine(self,x,y,row=0,col=0,**plot_kwargs):\n",
    "        \"\"\"Plot a line and return the Line2D object\"\"\"\n",
    "        l,= self.axes[row][col].plot(x,y,**plot_kwargs)\n",
    "        return l"
   ]
  },
  {
   "cell_type": "markdown",
   "metadata": {},
   "source": [
    "# Testing"
   ]
  },
  {
   "cell_type": "code",
   "execution_count": 4,
   "metadata": {},
   "outputs": [],
   "source": [
    "plt.style.use('dark_background')\n",
    "plt.rcParams['axes.grid']=True"
   ]
  },
  {
   "cell_type": "code",
   "execution_count": 5,
   "metadata": {},
   "outputs": [
    {
     "data": {
      "image/png": "[encoded data removed]",
      "text/plain": [
       "<IPython.core.display.Image object>"
      ]
     },
     "metadata": {},
     "output_type": "display_data"
    }
   ],
   "source": [
    "nbfig = NBFigure('testimage.png',figsize=(18,7),ncols=2)\n",
    "\n",
    "nbfig.display()"
   ]
  },
  {
   "cell_type": "code",
   "execution_count": 6,
   "metadata": {},
   "outputs": [],
   "source": [
    "line = nbfig.plotLine(np.arange(10),np.arange(10))"
   ]
  },
  {
   "cell_type": "code",
   "execution_count": 7,
   "metadata": {},
   "outputs": [],
   "source": [
    "t = np.linspace(0,5,10)\n",
    "powers = np.linspace(0,1,10)"
   ]
  },
  {
   "cell_type": "code",
   "execution_count": 8,
   "metadata": {},
   "outputs": [],
   "source": [
    "for i in powers:\n",
    "    line.set_data(t,t**i)\n",
    "    nbfig.update()"
   ]
  },
  {
   "cell_type": "code",
   "execution_count": null,
   "metadata": {},
   "outputs": [],
   "source": []
  }
 ],
 "metadata": {
  "kernelspec": {
   "display_name": "Python [conda env:pytorch_py36]",
   "language": "python",
   "name": "conda-env-pytorch_py36-py"
  },
  "language_info": {
   "codemirror_mode": {
    "name": "ipython",
    "version": 3
   },
   "file_extension": ".py",
   "mimetype": "text/x-python",
   "name": "python",
   "nbconvert_exporter": "python",
   "pygments_lexer": "ipython3",
   "version": "3.6.4"
  }
 },
 "nbformat": 4,
 "nbformat_minor": 2
}
