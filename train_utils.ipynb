{
 "cells": [
  {
   "cell_type": "markdown",
   "metadata": {},
   "source": [
    "# Convenience module for pytorch training"
   ]
  },
  {
   "cell_type": "markdown",
   "metadata": {},
   "source": [
    "## Imports"
   ]
  },
  {
   "cell_type": "code",
   "execution_count": 1,
   "metadata": {},
   "outputs": [],
   "source": [
    "import writefile_run"
   ]
  },
  {
   "cell_type": "code",
   "execution_count": 2,
   "metadata": {},
   "outputs": [],
   "source": [
    "%load_ext autoreload\n",
    "%autoreload 2"
   ]
  },
  {
   "cell_type": "code",
   "execution_count": 3,
   "metadata": {},
   "outputs": [],
   "source": [
    "%%writefile_run train_utils.py\n",
    "\n",
    "\n",
    "\"\"\"\n",
    "Convenience module for pytorch training and visualization.\n",
    "\"\"\"\n",
    "\n",
    "import torch\n",
    "import torch.nn as nn\n",
    "from torch import optim\n",
    "from pylab import *\n",
    "from torch.utils.data import *\n",
    "from IPython.display import *\n",
    "from nb_figure import *\n",
    "import os, time\n",
    "import traceback\n",
    "from updaters import *"
   ]
  },
  {
   "cell_type": "code",
   "execution_count": 4,
   "metadata": {},
   "outputs": [],
   "source": [
    "style.use(['dark_background'])\n",
    "rcParams['axes.grid']=True\n",
    "rcParams['font.size']=15\n",
    "rcParams['figure.figsize']=18,7"
   ]
  },
  {
   "cell_type": "code",
   "execution_count": 5,
   "metadata": {
    "collapsed": true
   },
   "outputs": [],
   "source": [
    "%%writefile_run train_utils.py -a\n",
    "\n",
    "\n",
    "def getTimeName():\n",
    "    \"\"\"Return the current time in format <day>-<month>_<hour><minute> for use in filenames.\"\"\"\n",
    "    from datetime import datetime\n",
    "    t = datetime.now()\n",
    "    return \"{:02d}-{:02d}_{:02d}{:02d}\".format(t.day,t.month,t.hour,t.minute)"
   ]
  },
  {
   "cell_type": "code",
   "execution_count": 6,
   "metadata": {},
   "outputs": [],
   "source": [
    "%%writefile_run train_utils.py -a\n",
    "\n",
    "\n",
    "def save_as_txt(obj, filename):\n",
    "    \"\"\"Save str(obj) to the given filename. Overwrites file if it exists.\"\"\"\n",
    "    s = str(obj)\n",
    "    with open(filename, 'w') as f:\n",
    "        f.write(s)"
   ]
  },
  {
   "cell_type": "code",
   "execution_count": 7,
   "metadata": {
    "collapsed": true
   },
   "outputs": [],
   "source": [
    "%%writefile_run train_utils.py -a\n",
    "\n",
    "\n",
    "def decorate_plot(axes):\n",
    "    \"\"\"Label x axis as Epoch for each axis\"\"\"\n",
    "    for ax in axes.reshape(-1):\n",
    "        ax.set_xlabel(\"Epoch\")"
   ]
  },
  {
   "cell_type": "code",
   "execution_count": 8,
   "metadata": {},
   "outputs": [],
   "source": [
    "%%writefile_run train_utils.py -a\n",
    "\n",
    "\n",
    "class Trainer():\n",
    "    def __init__(self,\n",
    "                 model,\n",
    "                 trainOnBatch,\n",
    "                 callback=None,\n",
    "                 save_dir=None,\n",
    "                 mode='nb'):\n",
    "        \"\"\"\n",
    "        A trainer for training pytorch models.\n",
    "        \n",
    "        A top level directory given by save_dir is created, and the model architecture is saved.\n",
    "        Every time loop is called, a run subdirectory is created and checkpoints are saved in that.\n",
    "        \n",
    "        The trainOnBatch function should perform the main train step, and return batch metrics.\n",
    "        The optional callback can perform validation and return callback metrics.\n",
    "        \n",
    "        Make sure to call setup_metrics with names for each of the returned metrics in order.\n",
    "        \n",
    "        ---------\n",
    "        Arguments\n",
    "        ---------\n",
    "        model: The model associated with this trainer\n",
    "        trainOnBatch: a function with the following signature:\n",
    "            trainOnBatch(model, batch, optimizer) -> tuple of batch metrics(scalars)\n",
    "        callback: a function with the following signature:\n",
    "            callback(model, val_loader) -> tuple of callback metrics(scalars)\n",
    "        save_dir: the name of the directory to save all runs of this trainer in,\n",
    "            if not provided, is the name of the model class\n",
    "        mode: if 'nb', plot metric graphs and update displays, else just print info messages\n",
    "        \"\"\"\n",
    "        \n",
    "        \n",
    "        if save_dir==None:\n",
    "            save_dir=type(model).__name__    \n",
    "        os.makedirs(save_dir,exist_ok=True)\n",
    "        \n",
    "        self.save_dir = save_dir\n",
    "        self.trainOnBatch = trainOnBatch\n",
    "        self.callback = callback\n",
    "        self.mode = mode\n",
    "        self.model = model\n",
    "        \n",
    "        # save model architecture\n",
    "        save_as_txt(self.model, os.path.join(self.save_dir, 'arch.txt'))\n",
    "        \n",
    "        \n",
    "    def save_model(self, epoch, directory):\n",
    "        \"\"\"Save the state dict of the model in the directory, \n",
    "        with the save name metrics at the given epoch.\"\"\"\n",
    "        # save state dict\n",
    "        filename = \"{}_epoch{:03d}\".format(getTimeName(),epoch)\n",
    "        \n",
    "        for save_name_metric in self.save_name_metrics:\n",
    "            filename = filename+\"_{}{:.5f}\".format(save_name_metric,\n",
    "                                    self.metrics[save_name_metric][epoch-1])\n",
    "        filename = filename+\".statedict\"\n",
    "        \n",
    "        torch.save(self.model.state_dict(), os.path.join(directory,filename))\n",
    "    \n",
    "    \n",
    "    def setup_displays(self, batches, directory, **subplot_kwargs):\n",
    "        \"\"\"Set up IPython displays.\n",
    "        \n",
    "        batches: the number of batches in an epoch\n",
    "        directory: the directory to save the metrics plot image\n",
    "        \"\"\"\n",
    "        # First line display\n",
    "        self.batch_info = display(Markdown(''), display_id='batch_info')\n",
    "\n",
    "        # Progress bar\n",
    "        self.epoch_progress = ProgressBar(batches)\n",
    "        self.progress_bar = display(self.epoch_progress,display_id='progress_bar')\n",
    "\n",
    "        # Time of last epoch display\n",
    "        self.time_info = display(Markdown(''), display_id='time_info')\n",
    "\n",
    "        self.callback_info = display(Markdown(''), display_id='callback_info')\n",
    "        \n",
    "        # Last saved model\n",
    "        self.checkpoint_info = display(Markdown(''), display_id='checkpoint_info')\n",
    "        \n",
    "        # Metric plots\n",
    "        self.nbfig = NBFigure(os.path.join(directory,\"metric_plots.png\")\n",
    "                              ,*self.fig_grid, decorate_plot, **subplot_kwargs)\n",
    "        \n",
    "        # setup lines \n",
    "        self.lines = {}\n",
    "        for i,group in enumerate(self.plot_grouping):\n",
    "            # add a single point line for each group to respective axis\n",
    "            ax = self.nbfig.getAxis(i)\n",
    "            for metric in group:\n",
    "                self.lines[metric], = ax.plot([0],[0])\n",
    "\n",
    "            ax.legend(group)\n",
    "            \n",
    "        self.nbfig.display()\n",
    "        self.nbfig.update()\n",
    "\n",
    "    def setup_metrics(self,batch_metric_names, callback_metric_names=[], batch_metric_updaters=None,\n",
    "                    plot_grouping=None, save_name_metrics=None, fig_grid=(1,1)):\n",
    "        \"\"\"\n",
    "        Setup the metrics dict, with the given names for the metrics returned\n",
    "        by the batch and callback functions. \n",
    "        \n",
    "        ---------\n",
    "        Arguments\n",
    "        ---------\n",
    "        batch_metric_names: names of the metrics returned by the trainOnBatch function, \n",
    "            in order\n",
    "        callback_metric_names(=[]): names of the metrics returned by the callback function, \n",
    "            in order\n",
    "        batch_metric_updaters(=None): A list of updaters for each of the batch metrics. The running \n",
    "            metric is displayed in the epoch update bar and is also stored. By default is the \n",
    "            'Latest' updater.\n",
    "        plot_grouping(=None): a list of lists. Each list should contain the names of metrics to be \n",
    "            plotted in a single subplot. The index of each list corresponds to the index of\n",
    "            the subplot, counted row major wise.\n",
    "        save_name_metrics(=None): List of metric names which are added to the name of the saved \n",
    "            model checkpoints.\n",
    "        fig_grid(=(1,1)): the number of rows and columns in the figure\n",
    "           \n",
    "        \"\"\"\n",
    "        \n",
    "        # basic setups\n",
    "        self.metrics = {}\n",
    "        self.batch_metric_names = batch_metric_names\n",
    "        self.callback_metric_names = callback_metric_names\n",
    "        self.metric_names = self.batch_metric_names+self.callback_metric_names\n",
    "        self.save_name_metrics = save_name_metrics if save_name_metrics != None else []\n",
    "        \n",
    "        if batch_metric_updaters != None:\n",
    "            self.updaters = batch_metric_updaters\n",
    "        else:\n",
    "            self.updaters = [Latest() for m in self.batch_metric_names]\n",
    "        \n",
    "        # group all metrics into one if plot_grouping not specified\n",
    "        if plot_grouping != None:\n",
    "            self.plot_grouping = plot_grouping\n",
    "        else:\n",
    "            self.plot_grouping = [self.batch_metric_names+self.callback_metric_names]\n",
    "        \n",
    "        # initialize metric store\n",
    "        for metric in self.metric_names:\n",
    "            self.metrics[metric] = []\n",
    "        \n",
    "        self.fig_grid = fig_grid\n",
    "        \n",
    "        \n",
    "    def update_metrics(self, batch_metrics, callback_metrics):\n",
    "        \"\"\"Update the stored lists for each metric with the given batch and callback metrics\"\"\"\n",
    "        \n",
    "        metrics = dict(zip(self.metric_names, batch_metrics+callback_metrics))\n",
    "        for metric in self.metric_names:\n",
    "            self.metrics[metric].append(metrics[metric])\n",
    "        \n",
    "        return metrics\n",
    "        \n",
    "    def update_lines(self, x_data):\n",
    "        \"\"\"Update the lines for each metric with the stored metric data, and the given x_data\"\"\"\n",
    "        for metric in self.metric_names:\n",
    "            self.lines[metric].set_data(x_data,self.metrics[metric])\n",
    "            \n",
    "        self.nbfig.update()\n",
    "        \n",
    "    def loop(self, epochs, train_loader, optimizer, val_loader=None, update_interval=10, save_every=1):\n",
    "        \"\"\"\n",
    "        Perform a train loop for the given number of epochs.\n",
    "        \n",
    "        First, the optimizer and dataset specs are saved in a run directory.\n",
    "        \n",
    "        For each epoch:\n",
    "        \n",
    "            trainOnBatch is called for each batch in train loader, and the running batch metrics \n",
    "            are updated using the given updaters in setup_metrics. The final resulting metrics are \n",
    "            recorded.\n",
    "\n",
    "            callback is called after each epoch with the model and val_loader as inputs\n",
    "            and the metrics it returns are also recorded.\n",
    "\n",
    "            Plots of all metrics are updated live.\n",
    "\n",
    "        Finally, model and optimzer state dicts are saved.\n",
    "        \n",
    "        Returns a dictionary containing the history of all recorded metrics.\n",
    "        \n",
    "        ---------\n",
    "        Arguments\n",
    "        ---------\n",
    "        epochs: number of epochs to train for\n",
    "        train_loader: data loader which provides batches which are fed into trainOnBatch\n",
    "        optimizer: optimizer which is fed into trainOnBatch\n",
    "        val_loader(optional): fed into callback as a keyword argument val_loader\n",
    "        update_interval: number of batches to update displays after\n",
    "        save_every: number of epochs after which to save model state dict\n",
    "        \"\"\"\n",
    "        \n",
    "        run_dir = os.path.join(self.save_dir,\"run_{}\".format(getTimeName()))\n",
    "        os.makedirs(run_dir,exist_ok=True)\n",
    "        \n",
    "        if self.mode == 'nb':\n",
    "            self.setup_displays(len(train_loader), run_dir)\n",
    "        \n",
    "        # save optimizer spec\n",
    "        save_as_txt(optimizer, os.path.join(run_dir,\"optimizer_spec.txt\"))\n",
    "        \n",
    "        # save dataset spec\n",
    "        dataset_spec = \"Train dataset:\\n{}\\nbatch size = {}\\n\".format(str(train_loader.dataset),\n",
    "                                                                     train_loader.batch_size)\n",
    "        if val_loader != None:\n",
    "            dataset_spec += \"Validation dataset:\\n{}\".format(str(val_loader.dataset))\n",
    "        save_as_txt(dataset_spec, os.path.join(run_dir,\"dataset_spec.txt\"))\n",
    "        \n",
    "        # main train loop\n",
    "        try:\n",
    "            for e in range(epochs):\n",
    "\n",
    "                i=0\n",
    "                start = time.time()\n",
    "\n",
    "                # Reset running metrics\n",
    "                [updater.reset() for updater in self.updaters]\n",
    "                \n",
    "                for batch in train_loader:\n",
    "                    # Perform train step\n",
    "                    batch_metrics = trainOnBatch(self.model, batch, optimizer)\n",
    "                    \n",
    "                    # Update running metrics\n",
    "                    batch_metrics = tuple([self.updaters[i].update(b_metric) for i,b_metric in enumerate(batch_metrics)])\n",
    "                    \n",
    "                    # Update displays\n",
    "                    i+=1\n",
    "                    if i%update_interval==0:\n",
    "                        toprint = \"Epoch {}, batch {}, lr={:.6f}\".format(e+1,i,\n",
    "                                    optimizer.state_dict()['param_groups'][0]['lr'])\n",
    "                        \n",
    "                        for k,metric in enumerate(self.batch_metric_names):\n",
    "                            toprint = toprint + \", {}={:.5f}\".format(metric, batch_metrics[k])\n",
    "\n",
    "                        if self.mode=='nb':\n",
    "                            self.batch_info.update(Markdown(toprint))\n",
    "                            self.epoch_progress.progress = i\n",
    "                            self.progress_bar.update(self.epoch_progress)\n",
    "                        else:\n",
    "                            print(toprint)\n",
    "\n",
    "                # Update time for epoch\n",
    "                t = time.time()-start\n",
    "                toprint = \"Last epoch took {:.2f} seconds\".format(t)\n",
    "                if self.mode=='nb':\n",
    "                    self.time_info.update(Markdown(toprint))\n",
    "                else:\n",
    "                    print(toprint)\n",
    "\n",
    "                # execute callback\n",
    "                callback_metrics = ()\n",
    "                if self.callback != None:\n",
    "                    callback_metrics = self.callback(self.model, val_loader=val_loader)\n",
    "                    \n",
    "                    # update display\n",
    "                    toprint = \"Callback metrics:<br>\"\n",
    "                    for k,metric in enumerate(self.callback_metric_names):\n",
    "                        toprint = toprint + \"{}={:.5f}<br>\".format(metric, callback_metrics[k])\n",
    "                    \n",
    "                    if self.mode == 'nb':\n",
    "                        self.callback_info.update(Markdown(toprint))\n",
    "                    else:\n",
    "                        print(toprint)\n",
    "                \n",
    "                x_data = arange(e+1)+1\n",
    "                \n",
    "                # Update metrics after each epoch\n",
    "                metrics = self.update_metrics(batch_metrics, callback_metrics)\n",
    "                \n",
    "                # update plots\n",
    "                if self.mode == 'nb':\n",
    "                    self.update_lines(x_data)\n",
    "\n",
    "                # Checkpointing\n",
    "                if e%(save_every)==0:\n",
    "                    # save the state dict\n",
    "                    self.save_model(e+1, run_dir)\n",
    "                    \n",
    "                    # update display\n",
    "                    toprint = \"<br>Saved model after epoch {} on {} with following metrics:<br>\".format(e+1\n",
    "                                                                                    ,time.ctime())\n",
    "                    for metric in self.metric_names:\n",
    "                        toprint = toprint+\"{}={:.5f}<br>\".format(metric,metrics[metric])\n",
    "                    \n",
    "                    if self.mode == 'nb':\n",
    "                        self.checkpoint_info.update(Markdown(toprint))\n",
    "                    else:\n",
    "                        print(toprint)\n",
    "\n",
    "        except:\n",
    "            print(\"Exception occured, saving model and metrics\")\n",
    "            traceback.print_exc()\n",
    "        finally:\n",
    "            # save model dict\n",
    "            self.save_model(e+1, run_dir)\n",
    "            \n",
    "            # save metrics\n",
    "            torch.save(self.metrics,\n",
    "                  os.path.join(\n",
    "                        run_dir,                \n",
    "                        \"{}_metrics_epoch{:03d}.dict\".format(type(self.model).__name__,e+1)\n",
    "                    )\n",
    "                  )\n",
    "            \n",
    "            # save optimizer state\n",
    "            torch.save(optimizer.state_dict(),\n",
    "                  os.path.join(\n",
    "                        run_dir,                \n",
    "                        \"optimizer_state_epoch{:03d}.statedict\".format(e+1)\n",
    "                    )\n",
    "                  )\n",
    "            \n",
    "            return self.metrics"
   ]
  },
  {
   "cell_type": "code",
   "execution_count": 9,
   "metadata": {
    "collapsed": true
   },
   "outputs": [],
   "source": [
    "%%writefile_run train_utils.py -a\n",
    "\n",
    "\n",
    "def accuracy(scores, labels):\n",
    "    \"\"\"Return accuracy percentage. Assumes scores are in dim -1.\"\"\"\n",
    "    with torch.no_grad():\n",
    "        total = scores.size()[0]\n",
    "        pred = torch.argmax(scores, dim=-1)\n",
    "        correct = (pred == labels).sum().cpu().numpy().astype('float32')\n",
    "        acc = correct/total * 100\n",
    "        return acc"
   ]
  },
  {
   "cell_type": "markdown",
   "metadata": {},
   "source": [
    "# Setup a model for MNIST to demo the module"
   ]
  },
  {
   "cell_type": "markdown",
   "metadata": {},
   "source": [
    "## Get the data"
   ]
  },
  {
   "cell_type": "code",
   "execution_count": 10,
   "metadata": {},
   "outputs": [],
   "source": [
    "from torchvision.datasets import *\n",
    "from torchvision.transforms import *"
   ]
  },
  {
   "cell_type": "code",
   "execution_count": 11,
   "metadata": {},
   "outputs": [],
   "source": [
    "total_train_mnist = MNIST('/MNIST',download=True,transform=ToTensor())\n",
    "test_mnist = MNIST('/MNIST',train=False,transform=ToTensor())"
   ]
  },
  {
   "cell_type": "code",
   "execution_count": 12,
   "metadata": {},
   "outputs": [],
   "source": [
    "training_number = len(total_train_mnist)\n",
    "val_split = 0.1\n",
    "\n",
    "train_num = int(training_number*(1-val_split))\n",
    "val_num = int(training_number*val_split)\n",
    "\n",
    "train_mnist, val_mnist = torch.utils.data.dataset.random_split(total_train_mnist, \n",
    "                [train_num, val_num])"
   ]
  },
  {
   "cell_type": "code",
   "execution_count": 13,
   "metadata": {},
   "outputs": [],
   "source": [
    "train_loader = DataLoader(train_mnist, batch_size=32,shuffle=True)\n",
    "val_loader = DataLoader(val_mnist, batch_size=32,shuffle=True)\n",
    "test_loader = DataLoader(test_mnist, batch_size=32,shuffle=True)"
   ]
  },
  {
   "cell_type": "markdown",
   "metadata": {},
   "source": [
    "## The model"
   ]
  },
  {
   "cell_type": "code",
   "execution_count": 14,
   "metadata": {},
   "outputs": [],
   "source": [
    "import torch.nn.functional as F"
   ]
  },
  {
   "cell_type": "code",
   "execution_count": 15,
   "metadata": {},
   "outputs": [],
   "source": [
    "class MnistClassifier(nn.Module):\n",
    "    def __init__(self, hid_size):\n",
    "        super(MnistClassifier, self).__init__()\n",
    "        \n",
    "        self.hidden_layer = nn.Linear(28*28,hid_size)\n",
    "        \n",
    "        self.output_layer = nn.Linear(hid_size,10)\n",
    "        \n",
    "        \n",
    "    def forward(self, input):\n",
    "        input = input.view(-1,28*28)\n",
    "        \n",
    "        out = F.relu(self.hidden_layer(input))\n",
    "        out = self.output_layer(out)\n",
    "        \n",
    "        return out"
   ]
  },
  {
   "cell_type": "code",
   "execution_count": 16,
   "metadata": {},
   "outputs": [],
   "source": [
    "def trainOnBatch(model,batch,optimizer):\n",
    "    outputs = model(batch[0])\n",
    "    criterion = nn.CrossEntropyLoss()\n",
    "    loss = criterion(outputs,batch[1])\n",
    "    \n",
    "    optimizer.zero_grad()\n",
    "    loss.backward()\n",
    "    optimizer.step()\n",
    "    \n",
    "    loss = loss.detach().cpu().numpy()\n",
    "    acc = accuracy(outputs, batch[1])\n",
    "    return loss,acc"
   ]
  },
  {
   "cell_type": "code",
   "execution_count": 17,
   "metadata": {},
   "outputs": [],
   "source": [
    "def callback(model, val_loader):\n",
    "    with torch.no_grad():\n",
    "        criterion = nn.CrossEntropyLoss()\n",
    "        \n",
    "        model.eval()\n",
    "        batches = len(val_loader)\n",
    "        loss=0\n",
    "        acc=0\n",
    "        for batch in val_loader:\n",
    "            outputs = model(batch[0])\n",
    "            loss += criterion(outputs,batch[1])\n",
    "            acc += accuracy(outputs,batch[1])\n",
    "        \n",
    "        loss/= batches\n",
    "        acc /= batches\n",
    "        model.train()\n",
    "        return loss.cpu().numpy(), acc"
   ]
  },
  {
   "cell_type": "code",
   "execution_count": 18,
   "metadata": {},
   "outputs": [],
   "source": [
    "mnist_model = MnistClassifier(400)"
   ]
  },
  {
   "cell_type": "code",
   "execution_count": 19,
   "metadata": {},
   "outputs": [],
   "source": [
    "optimizer = optim.Adam(mnist_model.parameters())"
   ]
  },
  {
   "cell_type": "code",
   "execution_count": 20,
   "metadata": {},
   "outputs": [],
   "source": [
    "trainer = Trainer(mnist_model, trainOnBatch, callback=callback)\n",
    "\n",
    "trainer.setup_metrics(['loss','acc'],['val_loss','val_acc'],\n",
    "                      batch_metric_updaters=[Averager(), Averager()],\n",
    "                     plot_grouping=[['loss','val_loss'],['acc','val_acc']],\n",
    "                     fig_grid=(1,2))\n",
    "\n",
    "epochs = 10"
   ]
  },
  {
   "cell_type": "code",
   "execution_count": 21,
   "metadata": {},
   "outputs": [
    {
     "data": {
      "text/markdown": [
       "Epoch 10, batch 1680, lr=0.001000, loss=0.01126, acc=99.63170"
      ],
      "text/plain": [
       "<IPython.core.display.Markdown object>"
      ]
     },
     "metadata": {},
     "output_type": "display_data"
    },
    {
     "data": {
      "text/html": [
       "<progress style='width:60ex' max='1688' value='1680'></progress>"
      ],
      "text/plain": [
       "[=========================================================== ] 1680/1688"
      ]
     },
     "metadata": {},
     "output_type": "display_data"
    },
    {
     "data": {
      "text/markdown": [
       "Last epoch took 12.27 seconds"
      ],
      "text/plain": [
       "<IPython.core.display.Markdown object>"
      ]
     },
     "metadata": {},
     "output_type": "display_data"
    },
    {
     "data": {
      "text/markdown": [
       "Callback metrics:<br>val_loss=0.10250<br>val_acc=97.80585<br>"
      ],
      "text/plain": [
       "<IPython.core.display.Markdown object>"
      ]
     },
     "metadata": {},
     "output_type": "display_data"
    },
    {
     "data": {
      "text/markdown": [
       "<br>Saved model after epoch 10 on Mon Jun 18 21:46:53 2018 with following metrics:<br>loss=0.01123<br>acc=99.63344<br>val_loss=0.10250<br>val_acc=97.80585<br>"
      ],
      "text/plain": [
       "<IPython.core.display.Markdown object>"
      ]
     },
     "metadata": {},
     "output_type": "display_data"
    },
    {
     "data": {
      "image/png": "[encoded data removed]",
      "text/plain": [
       "<IPython.core.display.Image object>"
      ]
     },
     "metadata": {},
     "output_type": "display_data"
    }
   ],
   "source": [
    "metrics = trainer.loop(epochs, train_loader, optimizer, val_loader)"
   ]
  },
  {
   "cell_type": "code",
   "execution_count": null,
   "metadata": {},
   "outputs": [],
   "source": []
  }
 ],
 "metadata": {
  "kernelspec": {
   "display_name": "Python [conda env:pytorch_py36]",
   "language": "python",
   "name": "conda-env-pytorch_py36-py"
  },
  "language_info": {
   "codemirror_mode": {
    "name": "ipython",
    "version": 3
   },
   "file_extension": ".py",
   "mimetype": "text/x-python",
   "name": "python",
   "nbconvert_exporter": "python",
   "pygments_lexer": "ipython3",
   "version": "3.6.4"
  }
 },
 "nbformat": 4,
 "nbformat_minor": 2
}
