{
 "cells": [
  {
   "cell_type": "markdown",
   "metadata": {},
   "source": [
    "# Convenience module for pytorch training"
   ]
  },
  {
   "cell_type": "markdown",
   "metadata": {},
   "source": [
    "## Imports"
   ]
  },
  {
   "cell_type": "code",
   "execution_count": 2,
   "metadata": {},
   "outputs": [],
   "source": [
    "import writefile_run"
   ]
  },
  {
   "cell_type": "code",
   "execution_count": 2,
   "metadata": {},
   "outputs": [],
   "source": [
    "%load_ext autoreload\n",
    "%autoreload 2"
   ]
  },
  {
   "cell_type": "code",
   "execution_count": 3,
   "metadata": {},
   "outputs": [],
   "source": [
    "%%writefile_run train_utils.py\n",
    "\n",
    "\n",
    "\"\"\"\n",
    "Concenvience module for pytorch training and visualization.\n",
    "\"\"\"\n",
    "\n",
    "import torch\n",
    "import torch.nn as nn\n",
    "from torch import optim\n",
    "from pylab import *\n",
    "from torch.utils.data import *\n",
    "from IPython.display import *\n",
    "from nb_figure import *\n",
    "import os, time"
   ]
  },
  {
   "cell_type": "code",
   "execution_count": 4,
   "metadata": {},
   "outputs": [],
   "source": [
    "style.use(['dark_background'])\n",
    "rcParams['axes.grid']=True\n",
    "rcParams['font.size']=15\n",
    "rcParams['figure.figsize']=18,7"
   ]
  },
  {
   "cell_type": "code",
   "execution_count": 5,
   "metadata": {
    "collapsed": true
   },
   "outputs": [],
   "source": [
    "%%writefile_run train_utils.py -a\n",
    "\n",
    "\n",
    "def getTimeName():\n",
    "    \"\"\"Return the current time in format <day>-<month>_<hour><minute> for use in filenames.\"\"\"\n",
    "    from datetime import datetime\n",
    "    t = datetime.now()\n",
    "    return \"{:02d}-{:02d}_{:02d}{:02d}\".format(t.day,t.month,t.hour,t.minute)"
   ]
  },
  {
   "cell_type": "code",
   "execution_count": 6,
   "metadata": {
    "collapsed": true
   },
   "outputs": [],
   "source": [
    "%%writefile_run train_utils.py -a\n",
    "\n",
    "\n",
    "def decorate_plot(axes):\n",
    "    ax = axes[0][0]\n",
    "    ax.set_title(\"Training loss\")\n",
    "    ax.set_xlabel(\"Epoch\")\n",
    "    ax.set_ylabel(\"Loss\")"
   ]
  },
  {
   "cell_type": "code",
   "execution_count": 3,
   "metadata": {},
   "outputs": [],
   "source": [
    "%%writefile_run train_utils.py -a\n",
    "\n",
    "\n",
    "def trainLoop(model, train_loader, optimizer, trainOnBatch, epochs=10, \n",
    "              save_every=1, save_dir=None, batch_interval=10, scheduler=None):\n",
    "    \n",
    "    run_dir = \"run_{}\".format(getTimeName())\n",
    "\n",
    "    if save_dir==None:\n",
    "        save_dir=type(model).__name__\n",
    "    \n",
    "    os.makedirs(os.path.join(save_dir,run_dir))\n",
    "    \n",
    "    batch_info = display(Markdown(''), display_id='batch_info')\n",
    "    \n",
    "    epoch_progress = ProgressBar(len(train_loader))\n",
    "    progress_bar = display(epoch_progress,display_id='progress_bar')\n",
    "    \n",
    "    time_info = display(Markdown(''), display_id='time_info')\n",
    "    \n",
    "    checkpoint_info = display(Markdown(''), display_id='checkpoint_info')\n",
    "    \n",
    "    \n",
    "    image_path = os.path.join(save_dir,run_dir,\"loss_plot.png\")\n",
    "    loss_plot = NBFigure(image_path,decorate_fn=decorate_plot)\n",
    "    loss_plot.set_xlim((1,None))\n",
    "    loss_plot.set_ylim((0,None))\n",
    "    loss_plot.display()\n",
    "    loss_line = loss_plot.plotLine([0],[0])\n",
    "\n",
    "    losses = []\n",
    "    loss=0\n",
    "    try:\n",
    "        for e in range(epochs):\n",
    "            i=0\n",
    "            start = time.time()\n",
    "            for batch in train_loader:\n",
    "                loss = trainOnBatch(model,batch, optimizer)\n",
    "                loss = loss.detach().cpu().numpy()\n",
    "                i+=1\n",
    "                if i%batch_interval==0:\n",
    "                    toprint = \"Epoch {}, batch {}, lr={:.6f}, loss={:.5f}\".format(e+1,i,\n",
    "                                optimizer.state_dict()['param_groups'][0]['lr'],loss)\n",
    "\n",
    "                    batch_info.update(Markdown(toprint))\n",
    "                    epoch_progress.progress = i\n",
    "                    progress_bar.update(epoch_progress)\n",
    "\n",
    "            losses.append(loss)\n",
    "            loss_line.set_data(arange(e+1)+1,losses)\n",
    "            loss_plot.update()\n",
    "\n",
    "            t = time.time()-start\n",
    "            toprint = \"Last epoch took {:.2f} seconds\".format(t)\n",
    "            time_info.update(Markdown(toprint))\n",
    "            \n",
    "            if scheduler != None:\n",
    "                scheduler.step(loss)\n",
    "\n",
    "            if e%(save_every)==0:\n",
    "                torch.save(model.state_dict(), \n",
    "                    os.path.join(\n",
    "                        save_dir,\n",
    "                        run_dir,                \n",
    "                        \"{}_epoch{:03d}_loss_{:.5f}.statedict\".format(getTimeName(),e+1,loss)\n",
    "                    )\n",
    "                )\n",
    "\n",
    "                toprint = \"\"\"Saved model after epoch {} with \n",
    "                    loss={:.5f} on \\n {}\"\"\".format(e+1,loss,time.ctime())\n",
    "                checkpoint_info.update(Markdown(toprint))\n",
    "                \n",
    "    except KeyboardInterrupt:\n",
    "        print(\"KeyboardInterrupt occured, saving raw model and losses\")\n",
    "    finally:\n",
    "        torch.save(model,\n",
    "              os.path.join(\n",
    "                    save_dir,\n",
    "                    run_dir,                \n",
    "                    \"{}_epoch{:03d}_loss_{:.5f}.model\".format(type(model).__name__,e+1,loss)\n",
    "                )\n",
    "              )\n",
    "        \n",
    "        torch.save(losses,\n",
    "              os.path.join(\n",
    "                    save_dir,\n",
    "                    run_dir,                \n",
    "                    \"{}_Losses_epoch{:03d}.list\".format(type(model).__name__,e+1)\n",
    "                )\n",
    "              )\n",
    "        \n",
    "        return losses\n",
    "    \n",
    "    return losses"
   ]
  },
  {
   "cell_type": "markdown",
   "metadata": {},
   "source": [
    "# Setup a model for MNIST to demo the module"
   ]
  },
  {
   "cell_type": "markdown",
   "metadata": {},
   "source": [
    "## Get the data"
   ]
  },
  {
   "cell_type": "code",
   "execution_count": 8,
   "metadata": {},
   "outputs": [],
   "source": [
    "from torchvision.datasets import *\n",
    "from torchvision.transforms import *"
   ]
  },
  {
   "cell_type": "code",
   "execution_count": 9,
   "metadata": {},
   "outputs": [],
   "source": [
    "train_mnist = MNIST('/MNIST',download=True,transform=ToTensor())\n",
    "test_mnist = MNIST('/MNIST',train=False,transform=ToTensor())"
   ]
  },
  {
   "cell_type": "code",
   "execution_count": 10,
   "metadata": {},
   "outputs": [],
   "source": [
    "train_loader = DataLoader(train_mnist, batch_size=32,shuffle=True)\n",
    "test_loader = DataLoader(test_mnist, batch_size=32,shuffle=True)"
   ]
  },
  {
   "cell_type": "markdown",
   "metadata": {},
   "source": [
    "## The model"
   ]
  },
  {
   "cell_type": "code",
   "execution_count": 11,
   "metadata": {},
   "outputs": [],
   "source": [
    "import torch.nn.functional as F"
   ]
  },
  {
   "cell_type": "code",
   "execution_count": 12,
   "metadata": {},
   "outputs": [],
   "source": [
    "class MnistClassifier(nn.Module):\n",
    "    def __init__(self, hid_size):\n",
    "        super(MnistClassifier, self).__init__()\n",
    "        \n",
    "        self.hidden_layer = nn.Linear(28*28,hid_size)\n",
    "        \n",
    "        self.output_layer = nn.Linear(hid_size,10)\n",
    "        \n",
    "        \n",
    "    def forward(self, input):\n",
    "        input = input.view(-1,28*28)\n",
    "        \n",
    "        out = F.relu(self.hidden_layer(input))\n",
    "        out = self.output_layer(out)\n",
    "        \n",
    "        return out"
   ]
  },
  {
   "cell_type": "code",
   "execution_count": 13,
   "metadata": {},
   "outputs": [],
   "source": [
    "def trainOnBatch(model,batch,optimizer):\n",
    "    outputs = model(batch[0])\n",
    "    criterion = nn.CrossEntropyLoss()\n",
    "    loss = criterion(outputs,batch[1])\n",
    "    \n",
    "    optimizer.zero_grad()\n",
    "    loss.backward()\n",
    "    optimizer.step()\n",
    "    \n",
    "    return loss"
   ]
  },
  {
   "cell_type": "code",
   "execution_count": 14,
   "metadata": {},
   "outputs": [],
   "source": [
    "mnist_model = MnistClassifier(400)"
   ]
  },
  {
   "cell_type": "code",
   "execution_count": 15,
   "metadata": {},
   "outputs": [],
   "source": [
    "optimizer = optim.Adam(mnist_model.parameters())"
   ]
  },
  {
   "cell_type": "code",
   "execution_count": 16,
   "metadata": {},
   "outputs": [],
   "source": [
    "epochs = 10\n",
    "scheduler = optim.lr_scheduler.ReduceLROnPlateau(optimizer,factor=0.2,cooldown=3,patience=1)"
   ]
  },
  {
   "cell_type": "code",
   "execution_count": 17,
   "metadata": {},
   "outputs": [
    {
     "data": {
      "text/markdown": [
       "Epoch 10, batch 1870, lr=0.000200, loss=0.00447"
      ],
      "text/plain": [
       "<IPython.core.display.Markdown object>"
      ]
     },
     "metadata": {},
     "output_type": "display_data"
    },
    {
     "data": {
      "text/html": [
       "<progress style='width:60ex' max='1875' value='1870'></progress>"
      ],
      "text/plain": [
       "[=========================================================== ] 1870/1875"
      ]
     },
     "metadata": {},
     "output_type": "display_data"
    },
    {
     "data": {
      "text/markdown": [
       "Last epoch took 11.14 seconds"
      ],
      "text/plain": [
       "<IPython.core.display.Markdown object>"
      ]
     },
     "metadata": {},
     "output_type": "display_data"
    },
    {
     "data": {
      "text/markdown": [
       "Saved model after epoch 10 with \n",
       "                    loss=0.00591 on \n",
       " Fri Jun  8 00:40:44 2018"
      ],
      "text/plain": [
       "<IPython.core.display.Markdown object>"
      ]
     },
     "metadata": {},
     "output_type": "display_data"
    },
    {
     "data": {
      "image/png": "[encoded data removed]",
      "text/plain": [
       "<IPython.core.display.Image object>"
      ]
     },
     "metadata": {},
     "output_type": "display_data"
    },
    {
     "name": "stderr",
     "output_type": "stream",
     "text": [
      "C:\\Users\\Rajat\\Anaconda2\\envs\\pytorch_py36\\lib\\site-packages\\torch\\serialization.py:193: UserWarning: Couldn't retrieve source code for container of type MnistClassifier. It won't be checked for correctness upon loading.\n",
      "  \"type \" + obj.__name__ + \". It won't be checked \"\n"
     ]
    }
   ],
   "source": [
    "losses = trainLoop(mnist_model,train_loader,optimizer,trainOnBatch,epochs=epochs,scheduler=scheduler)"
   ]
  },
  {
   "cell_type": "code",
   "execution_count": null,
   "metadata": {},
   "outputs": [],
   "source": []
  }
 ],
 "metadata": {
  "kernelspec": {
   "display_name": "Python [conda env:pytorch_py36]",
   "language": "python",
   "name": "conda-env-pytorch_py36-py"
  },
  "language_info": {
   "codemirror_mode": {
    "name": "ipython",
    "version": 3
   },
   "file_extension": ".py",
   "mimetype": "text/x-python",
   "name": "python",
   "nbconvert_exporter": "python",
   "pygments_lexer": "ipython3",
   "version": "3.6.4"
  }
 },
 "nbformat": 4,
 "nbformat_minor": 2
}
