{
 "cells": [
  {
   "cell_type": "markdown",
   "metadata": {},
   "source": [
    "# A bunch of running metric updaters"
   ]
  },
  {
   "cell_type": "markdown",
   "metadata": {},
   "source": [
    "Can be used to find running batch metrics over an epoch of training"
   ]
  },
  {
   "cell_type": "code",
   "execution_count": 1,
   "metadata": {},
   "outputs": [],
   "source": [
    "import writefile_run\n",
    "filename = '../package/pytorch_utils/updaters.py'"
   ]
  },
  {
   "cell_type": "code",
   "execution_count": 2,
   "metadata": {},
   "outputs": [],
   "source": [
    "%%writefile_run $filename \n",
    "\n",
    "\n",
    "def averager():\n",
    "    \"\"\"A running averager\"\"\"\n",
    "    s = yield\n",
    "    n = 1\n",
    "    while True:\n",
    "        s += yield s/n\n",
    "        n += 1"
   ]
  },
  {
   "cell_type": "code",
   "execution_count": 3,
   "metadata": {},
   "outputs": [],
   "source": [
    "%%writefile_run $filename -a\n",
    "\n",
    "\n",
    "def maxxer():\n",
    "    \"\"\"A running updater which takes max of the metric\"\"\"\n",
    "    running_max = yield\n",
    "    while True:\n",
    "        x = yield running_max\n",
    "        running_max = max(running_max, x)"
   ]
  },
  {
   "cell_type": "code",
   "execution_count": 4,
   "metadata": {},
   "outputs": [],
   "source": [
    "%%writefile_run $filename -a\n",
    "\n",
    "\n",
    "def maxxer():\n",
    "    \"\"\"A running updater which takes min of the metric\"\"\"\n",
    "    running_min = yield\n",
    "    while True:\n",
    "        x = yield running_min\n",
    "        running_min = min(running_min, x)"
   ]
  },
  {
   "cell_type": "code",
   "execution_count": 5,
   "metadata": {},
   "outputs": [],
   "source": [
    "%%writefile_run $filename -a\n",
    "\n",
    "\n",
    "def latest():\n",
    "    \"\"\"A running updater which returns the latest sample\"\"\"\n",
    "    a = yield\n",
    "    while True:\n",
    "        a = yield a"
   ]
  },
  {
   "cell_type": "code",
   "execution_count": null,
   "metadata": {},
   "outputs": [],
   "source": []
  }
 ],
 "metadata": {
  "kernelspec": {
   "display_name": "Python [conda env:pytorch_py36]",
   "language": "python",
   "name": "conda-env-pytorch_py36-py"
  },
  "language_info": {
   "codemirror_mode": {
    "name": "ipython",
    "version": 3
   },
   "file_extension": ".py",
   "mimetype": "text/x-python",
   "name": "python",
   "nbconvert_exporter": "python",
   "pygments_lexer": "ipython3",
   "version": "3.6.4"
  }
 },
 "nbformat": 4,
 "nbformat_minor": 2
}
