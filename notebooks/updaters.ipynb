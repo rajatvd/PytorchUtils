{
 "cells": [
  {
   "cell_type": "markdown",
   "metadata": {},
   "source": [
    "# A bunch of running metric updaters"
   ]
  },
  {
   "cell_type": "markdown",
   "metadata": {},
   "source": [
    "Can be used to find running batch metrics over an epoch of training"
   ]
  },
  {
   "cell_type": "code",
   "execution_count": 1,
   "metadata": {},
   "outputs": [],
   "source": [
    "import writefile_run\n",
    "filename = '../package/pytorch_utils/updaters.py'"
   ]
  },
  {
   "cell_type": "code",
   "execution_count": 2,
   "metadata": {},
   "outputs": [],
   "source": [
    "%%writefile_run $filename\n",
    "\n",
    "\n",
    "class Updater():\n",
    "    \"\"\"A running metric updater\"\"\"\n",
    "    def reset(self):\n",
    "        \"\"\"Reset the state of the updater\"\"\"\n",
    "        raise NotImplementedError(\"reset not implemented\")\n",
    "        \n",
    "    def update(self, sample):\n",
    "        \"\"\"Update the running metric with a new sample and return the updated value\"\"\"\n",
    "        raise NotImplementedError(\"update not implemented\")"
   ]
  },
  {
   "cell_type": "code",
   "execution_count": 3,
   "metadata": {},
   "outputs": [],
   "source": [
    "%%writefile_run $filename -a\n",
    "\n",
    "\n",
    "class Averager(Updater):\n",
    "    \"\"\"A running averager\"\"\"\n",
    "    def reset(self):\n",
    "        self.count = 0\n",
    "        self.running_sum = 0\n",
    "    \n",
    "    def update(self, sample):\n",
    "        self.count += 1\n",
    "        self.running_sum += sample\n",
    "        return self.running_sum/self.count"
   ]
  },
  {
   "cell_type": "code",
   "execution_count": 4,
   "metadata": {},
   "outputs": [],
   "source": [
    "%%writefile_run $filename -a\n",
    "\n",
    "\n",
    "class Maxer(Updater):\n",
    "    \"\"\"A running updater which takes max of the metric\"\"\"\n",
    "    def reset(self):\n",
    "        self.running_max = -float('inf')\n",
    "    \n",
    "    def update(self, sample):\n",
    "        self.running_max = max(self.running_max, sample)\n",
    "        return self.running_max"
   ]
  },
  {
   "cell_type": "code",
   "execution_count": 5,
   "metadata": {},
   "outputs": [],
   "source": [
    "%%writefile_run $filename -a\n",
    "\n",
    "\n",
    "class Minner(Updater):\n",
    "    \"\"\"A running updater which takes min of the metric\"\"\"\n",
    "    def reset(self):\n",
    "        self.running_min = float('inf')\n",
    "    \n",
    "    def update(self, sample):\n",
    "        self.running_min = min(self.running_min, sample)\n",
    "        return self.running_min"
   ]
  },
  {
   "cell_type": "code",
   "execution_count": 6,
   "metadata": {},
   "outputs": [],
   "source": [
    "%%writefile_run $filename -a\n",
    "\n",
    "\n",
    "class Latest(Updater):\n",
    "    \"\"\"A running updater which returns the latest sample\"\"\"\n",
    "    def reset(self):\n",
    "        pass\n",
    "    def update(self, sample):\n",
    "        return sample"
   ]
  },
  {
   "cell_type": "code",
   "execution_count": null,
   "metadata": {},
   "outputs": [],
   "source": []
  }
 ],
 "metadata": {
  "kernelspec": {
   "display_name": "Python [conda env:pytorch_py36]",
   "language": "python",
   "name": "conda-env-pytorch_py36-py"
  },
  "language_info": {
   "codemirror_mode": {
    "name": "ipython",
    "version": 3
   },
   "file_extension": ".py",
   "mimetype": "text/x-python",
   "name": "python",
   "nbconvert_exporter": "python",
   "pygments_lexer": "ipython3",
   "version": "3.6.4"
  }
 },
 "nbformat": 4,
 "nbformat_minor": 2
}
